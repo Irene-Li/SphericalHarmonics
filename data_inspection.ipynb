{
 "cells": [
  {
   "cell_type": "code",
   "execution_count": 2,
   "id": "c373d621",
   "metadata": {},
   "outputs": [
    {
     "data": {
      "text/plain": [
       "<module 'spharm' from '/Users/yuli/Documents/Code/SphericalHarmonics/spharm.py'>"
      ]
     },
     "execution_count": 2,
     "metadata": {},
     "output_type": "execute_result"
    }
   ],
   "source": [
    "import numpy as np \n",
    "import plotly.figure_factory as ff\n",
    "import plotly.graph_objects as go\n",
    "from meshplot import plot, subplot \n",
    "from matplotlib import pyplot as plt\n",
    "\n",
    "import importlib \n",
    "import utils\n",
    "importlib.reload(utils)\n",
    "import spharm\n",
    "importlib.reload(spharm)"
   ]
  },
  {
   "cell_type": "code",
   "execution_count": 3,
   "id": "985f8c88",
   "metadata": {},
   "outputs": [],
   "source": [
    "save_path = \"Data/fractal_output/day2/r0.zarr/A/02/0_fused/meshes/nnorg_linked/56\"\n",
    "\n",
    "# Initialize optimizer\n",
    "m = spharm.SpHarm()\n",
    "m.load_results(save_path)"
   ]
  },
  {
   "cell_type": "code",
   "execution_count": 4,
   "id": "a194300d",
   "metadata": {},
   "outputs": [
    {
     "data": {
      "application/vnd.jupyter.widget-view+json": {
       "model_id": "825a0c82d6a24267a9a99e9426dde1dd",
       "version_major": 2,
       "version_minor": 0
      },
      "text/plain": [
       "Renderer(camera=PerspectiveCamera(children=(DirectionalLight(color='white', intensity=0.6, position=(-0.012038…"
      ]
     },
     "metadata": {},
     "output_type": "display_data"
    },
    {
     "data": {
      "text/plain": [
       "<meshplot.Viewer.Viewer at 0x312fda430>"
      ]
     },
     "execution_count": 4,
     "metadata": {},
     "output_type": "execute_result"
    }
   ],
   "source": [
    "plot(m.v, m.f, uv=m.coors)"
   ]
  },
  {
   "cell_type": "code",
   "execution_count": null,
   "id": "2a202364",
   "metadata": {},
   "outputs": [],
   "source": []
  }
 ],
 "metadata": {
  "kernelspec": {
   "display_name": "scmpx",
   "language": "python",
   "name": "python3"
  },
  "language_info": {
   "codemirror_mode": {
    "name": "ipython",
    "version": 3
   },
   "file_extension": ".py",
   "mimetype": "text/x-python",
   "name": "python",
   "nbconvert_exporter": "python",
   "pygments_lexer": "ipython3",
   "version": "3.9.21"
  }
 },
 "nbformat": 4,
 "nbformat_minor": 5
}
